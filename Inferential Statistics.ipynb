{
 "cells": [
  {
   "cell_type": "code",
   "execution_count": 79,
   "metadata": {},
   "outputs": [],
   "source": [
    "import pandas as pd\n",
    "import numpy as np\n",
    "import scipy.stats as stats\n",
    "from statsmodels.stats import weightstats as stests\n",
    "from scipy.stats import ttest_1samp\n",
    "from scipy.stats import ttest_ind\n",
    "import matplotlib.pyplot as plt\n",
    "import math\n",
    "import researchpy as rp\n",
    "import statsmodels.api as sm\n",
    "from statsmodels.formula.api import ols\n",
    "from scipy.stats import chi2_contingency"
   ]
  },
  {
   "cell_type": "raw",
   "metadata": {},
   "source": [
    "This data set was imported from the IBM Watson repository."
   ]
  },
  {
   "cell_type": "code",
   "execution_count": 9,
   "metadata": {},
   "outputs": [],
   "source": [
    "df = pd.read_csv(r\"D:\\Users\\sandilya_garimella\\Documents\\Sandilya\\DataSets\\WA_Fn-UseC_-Marketing-Campaign-Plan_-GroceryS.csv\")"
   ]
  },
  {
   "cell_type": "code",
   "execution_count": 10,
   "metadata": {},
   "outputs": [
    {
     "data": {
      "text/html": [
       "<div>\n",
       "<style scoped>\n",
       "    .dataframe tbody tr th:only-of-type {\n",
       "        vertical-align: middle;\n",
       "    }\n",
       "\n",
       "    .dataframe tbody tr th {\n",
       "        vertical-align: top;\n",
       "    }\n",
       "\n",
       "    .dataframe thead th {\n",
       "        text-align: right;\n",
       "    }\n",
       "</style>\n",
       "<table border=\"1\" class=\"dataframe\">\n",
       "  <thead>\n",
       "    <tr style=\"text-align: right;\">\n",
       "      <th></th>\n",
       "      <th>storeid</th>\n",
       "      <th>HealthyStore</th>\n",
       "      <th>StoreSize</th>\n",
       "      <th>StoreLayout</th>\n",
       "      <th>customerID</th>\n",
       "      <th>gender</th>\n",
       "      <th>WhoShoppingFor</th>\n",
       "      <th>Vegetarian</th>\n",
       "      <th>ShoppingStyle</th>\n",
       "      <th>CouponUser</th>\n",
       "      <th>week</th>\n",
       "      <th>CouponSequence</th>\n",
       "      <th>CarryOver</th>\n",
       "      <th>CouponValue</th>\n",
       "      <th>AmountSpent</th>\n",
       "    </tr>\n",
       "  </thead>\n",
       "  <tbody>\n",
       "    <tr>\n",
       "      <td>0</td>\n",
       "      <td>1</td>\n",
       "      <td>Regular store</td>\n",
       "      <td>Medium</td>\n",
       "      <td>No emphasis</td>\n",
       "      <td>6193-QDKCN</td>\n",
       "      <td>Male</td>\n",
       "      <td>Self and spouse</td>\n",
       "      <td>No</td>\n",
       "      <td>Often; what's on sale</td>\n",
       "      <td>From newspaper</td>\n",
       "      <td>1</td>\n",
       "      <td>2,4,1,3</td>\n",
       "      <td>0</td>\n",
       "      <td>05 percent</td>\n",
       "      <td>135.24</td>\n",
       "    </tr>\n",
       "    <tr>\n",
       "      <td>1</td>\n",
       "      <td>1</td>\n",
       "      <td>Regular store</td>\n",
       "      <td>Medium</td>\n",
       "      <td>No emphasis</td>\n",
       "      <td>6193-QDKCN</td>\n",
       "      <td>Male</td>\n",
       "      <td>Self and spouse</td>\n",
       "      <td>No</td>\n",
       "      <td>Often; what's on sale</td>\n",
       "      <td>From newspaper</td>\n",
       "      <td>2</td>\n",
       "      <td>2,4,1,3</td>\n",
       "      <td>2</td>\n",
       "      <td>25 percent</td>\n",
       "      <td>128.65</td>\n",
       "    </tr>\n",
       "    <tr>\n",
       "      <td>2</td>\n",
       "      <td>1</td>\n",
       "      <td>Regular store</td>\n",
       "      <td>Medium</td>\n",
       "      <td>No emphasis</td>\n",
       "      <td>6193-QDKCN</td>\n",
       "      <td>Male</td>\n",
       "      <td>Self and spouse</td>\n",
       "      <td>No</td>\n",
       "      <td>Often; what's on sale</td>\n",
       "      <td>From newspaper</td>\n",
       "      <td>3</td>\n",
       "      <td>2,4,1,3</td>\n",
       "      <td>4</td>\n",
       "      <td>00 No value</td>\n",
       "      <td>112.86</td>\n",
       "    </tr>\n",
       "    <tr>\n",
       "      <td>3</td>\n",
       "      <td>1</td>\n",
       "      <td>Regular store</td>\n",
       "      <td>Medium</td>\n",
       "      <td>No emphasis</td>\n",
       "      <td>6193-QDKCN</td>\n",
       "      <td>Male</td>\n",
       "      <td>Self and spouse</td>\n",
       "      <td>No</td>\n",
       "      <td>Often; what's on sale</td>\n",
       "      <td>From newspaper</td>\n",
       "      <td>4</td>\n",
       "      <td>2,4,1,3</td>\n",
       "      <td>1</td>\n",
       "      <td>15 percent</td>\n",
       "      <td>130.14</td>\n",
       "    </tr>\n",
       "    <tr>\n",
       "      <td>4</td>\n",
       "      <td>1</td>\n",
       "      <td>Regular store</td>\n",
       "      <td>Medium</td>\n",
       "      <td>No emphasis</td>\n",
       "      <td>9245-DEZSB</td>\n",
       "      <td>Male</td>\n",
       "      <td>Self and family</td>\n",
       "      <td>No</td>\n",
       "      <td>Weekly; similar items</td>\n",
       "      <td>From mailings</td>\n",
       "      <td>1</td>\n",
       "      <td>4,3,2,1</td>\n",
       "      <td>0</td>\n",
       "      <td>25 percent</td>\n",
       "      <td>155.61</td>\n",
       "    </tr>\n",
       "  </tbody>\n",
       "</table>\n",
       "</div>"
      ],
      "text/plain": [
       "   storeid   HealthyStore StoreSize  StoreLayout  customerID gender  \\\n",
       "0        1  Regular store    Medium  No emphasis  6193-QDKCN   Male   \n",
       "1        1  Regular store    Medium  No emphasis  6193-QDKCN   Male   \n",
       "2        1  Regular store    Medium  No emphasis  6193-QDKCN   Male   \n",
       "3        1  Regular store    Medium  No emphasis  6193-QDKCN   Male   \n",
       "4        1  Regular store    Medium  No emphasis  9245-DEZSB   Male   \n",
       "\n",
       "    WhoShoppingFor Vegetarian          ShoppingStyle      CouponUser  week  \\\n",
       "0  Self and spouse         No  Often; what's on sale  From newspaper     1   \n",
       "1  Self and spouse         No  Often; what's on sale  From newspaper     2   \n",
       "2  Self and spouse         No  Often; what's on sale  From newspaper     3   \n",
       "3  Self and spouse         No  Often; what's on sale  From newspaper     4   \n",
       "4  Self and family         No  Weekly; similar items   From mailings     1   \n",
       "\n",
       "  CouponSequence  CarryOver  CouponValue  AmountSpent  \n",
       "0        2,4,1,3          0   05 percent       135.24  \n",
       "1        2,4,1,3          2   25 percent       128.65  \n",
       "2        2,4,1,3          4  00 No value       112.86  \n",
       "3        2,4,1,3          1   15 percent       130.14  \n",
       "4        4,3,2,1          0   25 percent       155.61  "
      ]
     },
     "execution_count": 10,
     "metadata": {},
     "output_type": "execute_result"
    }
   ],
   "source": [
    "df.head()"
   ]
  },
  {
   "cell_type": "code",
   "execution_count": 17,
   "metadata": {},
   "outputs": [
    {
     "data": {
      "text/plain": [
       "Index(['storeid', 'HealthyStore', 'StoreSize', 'StoreLayout', 'customerID',\n",
       "       'gender', 'WhoShoppingFor', 'Vegetarian', 'ShoppingStyle', 'CouponUser',\n",
       "       'week', 'CouponSequence', 'CarryOver', 'CouponValue', 'AmountSpent'],\n",
       "      dtype='object')"
      ]
     },
     "execution_count": 17,
     "metadata": {},
     "output_type": "execute_result"
    }
   ],
   "source": [
    "df.columns\n"
   ]
  },
  {
   "cell_type": "markdown",
   "metadata": {},
   "source": [
    "POPULATION VS SAMPLE"
   ]
  },
  {
   "cell_type": "raw",
   "metadata": {},
   "source": [
    "Population:\n",
    "Population is the entire data from which we would like to draw conclusions."
   ]
  },
  {
   "cell_type": "raw",
   "metadata": {},
   "source": [
    "Sample:\n",
    "Sample is the specific amount of data taken from the entire data and from this specific data, conclusions are drawn.    "
   ]
  },
  {
   "cell_type": "raw",
   "metadata": {},
   "source": [
    "Reasons for Sampling:\n",
    "1) It is impossible to study/draw conclusions from the whole population due to its size.\n",
    "2) It is much easier and more efficient to collect data from samples rather than the whole population.\n",
    "3) It is cost efficient. Since storing and running analysis on smaller amount of data is much easier.\n"
   ]
  },
  {
   "cell_type": "raw",
   "metadata": {},
   "source": [
    "When the population size is relatively small, we can study and draw analyses from the population itself."
   ]
  },
  {
   "cell_type": "markdown",
   "metadata": {},
   "source": [
    "### CONFIDENCE INTERVAL:"
   ]
  },
  {
   "cell_type": "raw",
   "metadata": {},
   "source": [
    "Confidence Interval is the range of value in which our true value will be present.\n",
    "Formula : X  ±  Z *(s/√n)\n",
    "            "
   ]
  },
  {
   "cell_type": "raw",
   "metadata": {},
   "source": [
    "Large Sample: A sample is considered to be a large sample if the sample size is greater than or equal to 30.(n>=30)"
   ]
  },
  {
   "cell_type": "markdown",
   "metadata": {},
   "source": [
    "1) 1-sample Z test : "
   ]
  },
  {
   "cell_type": "raw",
   "metadata": {},
   "source": [
    "We perform a 1-sample Z test when the population Standard Deviation is known to us or the sample is a large sample. \n",
    "1-sample Z test is used to compare sample mean vs population mean.\n",
    "\n",
    "Formula:\n",
    "z = (x — μ) / (σ / √n)"
   ]
  },
  {
   "cell_type": "raw",
   "metadata": {},
   "source": [
    "Here, using the 1-sample z test, we are comparing if the mean of our sample is equal to or not equal to the population mean."
   ]
  },
  {
   "cell_type": "code",
   "execution_count": 13,
   "metadata": {},
   "outputs": [
    {
     "data": {
      "text/html": [
       "<div>\n",
       "<style scoped>\n",
       "    .dataframe tbody tr th:only-of-type {\n",
       "        vertical-align: middle;\n",
       "    }\n",
       "\n",
       "    .dataframe tbody tr th {\n",
       "        vertical-align: top;\n",
       "    }\n",
       "\n",
       "    .dataframe thead th {\n",
       "        text-align: right;\n",
       "    }\n",
       "</style>\n",
       "<table border=\"1\" class=\"dataframe\">\n",
       "  <thead>\n",
       "    <tr style=\"text-align: right;\">\n",
       "      <th></th>\n",
       "      <th>storeid</th>\n",
       "      <th>week</th>\n",
       "      <th>CarryOver</th>\n",
       "      <th>AmountSpent</th>\n",
       "    </tr>\n",
       "    <tr>\n",
       "      <th>gender</th>\n",
       "      <th></th>\n",
       "      <th></th>\n",
       "      <th></th>\n",
       "      <th></th>\n",
       "    </tr>\n",
       "  </thead>\n",
       "  <tbody>\n",
       "    <tr>\n",
       "      <td>Female</td>\n",
       "      <td>28.475309</td>\n",
       "      <td>2.5</td>\n",
       "      <td>1.871914</td>\n",
       "      <td>117.955247</td>\n",
       "    </tr>\n",
       "    <tr>\n",
       "      <td>Male</td>\n",
       "      <td>30.037736</td>\n",
       "      <td>2.5</td>\n",
       "      <td>1.870283</td>\n",
       "      <td>118.907134</td>\n",
       "    </tr>\n",
       "  </tbody>\n",
       "</table>\n",
       "</div>"
      ],
      "text/plain": [
       "          storeid  week  CarryOver  AmountSpent\n",
       "gender                                         \n",
       "Female  28.475309   2.5   1.871914   117.955247\n",
       "Male    30.037736   2.5   1.870283   118.907134"
      ]
     },
     "execution_count": 13,
     "metadata": {},
     "output_type": "execute_result"
    }
   ],
   "source": [
    "df.groupby('gender').mean()"
   ]
  },
  {
   "cell_type": "raw",
   "metadata": {},
   "source": [
    "Performing the test to check if sample mean of the amount spent by Male is equal to the population or not."
   ]
  },
  {
   "cell_type": "code",
   "execution_count": 51,
   "metadata": {},
   "outputs": [
    {
     "name": "stdout",
     "output_type": "stream",
     "text": [
      "Z value:  0.0\n",
      "P value:  0.9968\n",
      "Accept null hypothesis\n"
     ]
    }
   ],
   "source": [
    "ztest,pval = stests.ztest(df['AmountSpent'][df['gender'] == 'Male'], x2=None, value=118.9)\n",
    "print(\"Z value: \",round(float(ztest),2))\n",
    "print(\"P value: \",round(float(pval),4))\n",
    "if pval<0.05:\n",
    "    print(\"Reject null hypothesis\")\n",
    "else:\n",
    "    print(\"Accept null hypothesis\")"
   ]
  },
  {
   "cell_type": "raw",
   "metadata": {},
   "source": [
    "Performing the test to check if sample mean of the amount spent by Female is equal to the population or not."
   ]
  },
  {
   "cell_type": "code",
   "execution_count": 39,
   "metadata": {},
   "outputs": [
    {
     "name": "stdout",
     "output_type": "stream",
     "text": [
      "Z value:  0.02\n",
      "P value:  0.9809\n",
      "Accept null hypothesis\n"
     ]
    }
   ],
   "source": [
    "ztest,pval = stests.ztest(df['AmountSpent'][df['gender'] == 'Female'], x2=None, value=117.9)\n",
    "print(\"Z value: \",round(float(ztest),2))\n",
    "print(\"P value: \",round(float(pval),4))\n",
    "if pval<0.05:\n",
    "    print(\"Reject null hypothesis\")\n",
    "else:\n",
    "    print(\"Accept null hypothesis\")"
   ]
  },
  {
   "cell_type": "markdown",
   "metadata": {},
   "source": [
    "2) 2-sample Z test:"
   ]
  },
  {
   "cell_type": "raw",
   "metadata": {},
   "source": [
    "We perform a 2-sample Z test when the Standard Deviation of the population is known to us.\n",
    "2-sample Z test is used to compare whether means of two unknown populations are statistically different.\n",
    "\n",
    "Formula:\n",
    "z = (x1 — x2) / (σ / √n1 + σ / √n2)"
   ]
  },
  {
   "cell_type": "raw",
   "metadata": {},
   "source": [
    "Here we check if the sample mean of amount spent by Male is equal to or not equal to sample mean of Female."
   ]
  },
  {
   "cell_type": "code",
   "execution_count": 47,
   "metadata": {},
   "outputs": [
    {
     "name": "stdout",
     "output_type": "stream",
     "text": [
      "Z value:  0.3304137087451998\n",
      "P value:  0.7410873845775992\n",
      "Accept null hypothesis\n"
     ]
    }
   ],
   "source": [
    "ztest ,pval = stests.ztest(df['AmountSpent'][df['gender'] == 'Male'], x2=df['AmountSpent'][df['gender'] == 'Female'], value=0,alternative='two-sided')\n",
    "print(\"Z value: \",ztest)\n",
    "print(\"P value: \",pval)\n",
    "if pval<0.05:\n",
    "    print(\"Reject null hypothesis\")\n",
    "else:\n",
    "    print(\"Accept null hypothesis\")"
   ]
  },
  {
   "cell_type": "markdown",
   "metadata": {},
   "source": [
    "3) 1-sample t test"
   ]
  },
  {
   "cell_type": "raw",
   "metadata": {},
   "source": [
    "We perform a 1-sample t test when the population Standard Deviation is not known to us or if the sample size is less.\n",
    "1-sample t test is used to compare sample mean vs population mean.\n",
    "\n",
    "Formula:\n",
    "t = (x — μ) / (σ / √n)"
   ]
  },
  {
   "cell_type": "raw",
   "metadata": {},
   "source": [
    "Performing the test to check if sample mean of the amount spent by Male is equal to the population or not."
   ]
  },
  {
   "cell_type": "code",
   "execution_count": 53,
   "metadata": {},
   "outputs": [
    {
     "name": "stdout",
     "output_type": "stream",
     "text": [
      "t value:  0.003958235384277636\n",
      "P value:  0.9968427253920955\n",
      "Accept null hypothesis\n"
     ]
    }
   ],
   "source": [
    "tscore,pval=ttest_1samp(df['AmountSpent'][df['gender'] == 'Male'], popmean=118.9)\n",
    "print(\"t value: \",tscore)\n",
    "print(\"P value: \",pval)\n",
    "if pval<0.05:\n",
    "    print(\"Reject null hypothesis\")\n",
    "else:\n",
    "    print(\"Accept null hypothesis\")"
   ]
  },
  {
   "cell_type": "raw",
   "metadata": {},
   "source": [
    "Performing the test to check if sample mean of the amount spent by Female is equal to the population or not."
   ]
  },
  {
   "cell_type": "code",
   "execution_count": 66,
   "metadata": {},
   "outputs": [
    {
     "name": "stdout",
     "output_type": "stream",
     "text": [
      "t value:  0.02400282073029227\n",
      "P value:  0.9808577595445628\n",
      "Accept null hypothesis\n"
     ]
    }
   ],
   "source": [
    "tscore,pval=ttest_1samp(df['AmountSpent'][df['gender'] == 'Female'], popmean=117.9)\n",
    "print(\"t value: \",tscore)\n",
    "print(\"P value: \",pval)\n",
    "if pval<0.05:\n",
    "    print(\"Reject null hypothesis\")\n",
    "else:\n",
    "    print(\"Accept null hypothesis\")"
   ]
  },
  {
   "cell_type": "markdown",
   "metadata": {},
   "source": [
    "4) 2-sample t test:"
   ]
  },
  {
   "cell_type": "raw",
   "metadata": {},
   "source": [
    "We perform a 2-sample t test when the Standard Deviation of the population is not known to us or if the sample size is less.\n",
    "2-sample t test is used to compare whether means of two unknown populations are statistically different.\n",
    "\n",
    "Formula:\n",
    "t = (x1 — x2) / (σ / √n1 + σ / √n2)"
   ]
  },
  {
   "cell_type": "code",
   "execution_count": 57,
   "metadata": {},
   "outputs": [
    {
     "name": "stdout",
     "output_type": "stream",
     "text": [
      "t value:  0.3256053786925406\n",
      "P value:  0.744775017845013\n",
      "Accept null hypothesis\n"
     ]
    }
   ],
   "source": [
    "t,p=ttest_ind(df['AmountSpent'][df['gender'] == 'Male'], df['AmountSpent'][df['gender'] == 'Female'], equal_var=False)\n",
    "print(\"t value: \",t)\n",
    "print(\"P value: \",p)\n",
    "if pval<0.05:\n",
    "    print(\"Reject null hypothesis\")\n",
    "else:\n",
    "    print(\"Accept null hypothesis\")"
   ]
  },
  {
   "cell_type": "markdown",
   "metadata": {},
   "source": [
    "5) ANOVA(Analysis of Variance):\n",
    "    "
   ]
  },
  {
   "cell_type": "raw",
   "metadata": {},
   "source": [
    "It is a statistical tool to split the variablity to know which component plays the important role.\n",
    "We perform ANOVA when we have to compare whether the means of three or more populations are statistically different."
   ]
  },
  {
   "cell_type": "code",
   "execution_count": 58,
   "metadata": {},
   "outputs": [
    {
     "data": {
      "text/plain": [
       "Index(['storeid', 'HealthyStore', 'StoreSize', 'StoreLayout', 'customerID',\n",
       "       'gender', 'WhoShoppingFor', 'Vegetarian', 'ShoppingStyle', 'CouponUser',\n",
       "       'week', 'CouponSequence', 'CarryOver', 'CouponValue', 'AmountSpent'],\n",
       "      dtype='object')"
      ]
     },
     "execution_count": 58,
     "metadata": {},
     "output_type": "execute_result"
    }
   ],
   "source": [
    "df.columns\n"
   ]
  },
  {
   "cell_type": "code",
   "execution_count": 59,
   "metadata": {},
   "outputs": [
    {
     "data": {
      "text/plain": [
       "array(['Self and spouse', 'Self and family', 'Self'], dtype=object)"
      ]
     },
     "execution_count": 59,
     "metadata": {},
     "output_type": "execute_result"
    }
   ],
   "source": [
    "df['WhoShoppingFor'].unique()"
   ]
  },
  {
   "cell_type": "code",
   "execution_count": 87,
   "metadata": {},
   "outputs": [
    {
     "name": "stdout",
     "output_type": "stream",
     "text": [
      "F value:  85.19\n",
      "P value:  0.0\n",
      "Reject null hypothesis\n"
     ]
    }
   ],
   "source": [
    "from scipy.stats import f_oneway\n",
    "self = df[df['WhoShoppingFor'] == 'Self']\n",
    "ss = df[df['WhoShoppingFor'] == 'Self and spouse']\n",
    "sf = df[df['WhoShoppingFor'] == 'Self and family']\n",
    "statistic, P_val = f_oneway(self['AmountSpent'], ss['AmountSpent'], sf['AmountSpent'])\n",
    "print(\"F value: \",round(float(statistic),2))\n",
    "print(\"P value: \",round(float(P_val),4))\n",
    "if P_val<0.05:\n",
    "    print(\"Reject null hypothesis\")\n",
    "else:\n",
    "    print(\"Accept null hypothesis\")"
   ]
  },
  {
   "cell_type": "code",
   "execution_count": 86,
   "metadata": {},
   "outputs": [
    {
     "data": {
      "text/plain": [
       "9.236386881258388e-36"
      ]
     },
     "execution_count": 86,
     "metadata": {},
     "output_type": "execute_result"
    }
   ],
   "source": [
    "P_val"
   ]
  },
  {
   "cell_type": "code",
   "execution_count": 70,
   "metadata": {},
   "outputs": [
    {
     "name": "stdout",
     "output_type": "stream",
     "text": [
      "\n",
      "\n"
     ]
    },
    {
     "data": {
      "text/html": [
       "<div>\n",
       "<style scoped>\n",
       "    .dataframe tbody tr th:only-of-type {\n",
       "        vertical-align: middle;\n",
       "    }\n",
       "\n",
       "    .dataframe tbody tr th {\n",
       "        vertical-align: top;\n",
       "    }\n",
       "\n",
       "    .dataframe thead th {\n",
       "        text-align: right;\n",
       "    }\n",
       "</style>\n",
       "<table border=\"1\" class=\"dataframe\">\n",
       "  <thead>\n",
       "    <tr style=\"text-align: right;\">\n",
       "      <th></th>\n",
       "      <th>Variable</th>\n",
       "      <th>N</th>\n",
       "      <th>Mean</th>\n",
       "      <th>SD</th>\n",
       "      <th>SE</th>\n",
       "      <th>95% Conf.</th>\n",
       "      <th>Interval</th>\n",
       "    </tr>\n",
       "  </thead>\n",
       "  <tbody>\n",
       "    <tr>\n",
       "      <td>0</td>\n",
       "      <td>AmountSpent</td>\n",
       "      <td>1496.0</td>\n",
       "      <td>118.4948</td>\n",
       "      <td>55.1973</td>\n",
       "      <td>1.4271</td>\n",
       "      <td>115.6955</td>\n",
       "      <td>121.2941</td>\n",
       "    </tr>\n",
       "  </tbody>\n",
       "</table>\n",
       "</div>"
      ],
      "text/plain": [
       "      Variable       N      Mean       SD      SE  95% Conf.  Interval\n",
       "0  AmountSpent  1496.0  118.4948  55.1973  1.4271   115.6955  121.2941"
      ]
     },
     "execution_count": 70,
     "metadata": {},
     "output_type": "execute_result"
    }
   ],
   "source": [
    "rp.summary_cont(df['AmountSpent'])"
   ]
  },
  {
   "cell_type": "code",
   "execution_count": 71,
   "metadata": {},
   "outputs": [
    {
     "name": "stdout",
     "output_type": "stream",
     "text": [
      "\n",
      "\n"
     ]
    },
    {
     "data": {
      "text/html": [
       "<div>\n",
       "<style scoped>\n",
       "    .dataframe tbody tr th:only-of-type {\n",
       "        vertical-align: middle;\n",
       "    }\n",
       "\n",
       "    .dataframe tbody tr th {\n",
       "        vertical-align: top;\n",
       "    }\n",
       "\n",
       "    .dataframe thead th {\n",
       "        text-align: right;\n",
       "    }\n",
       "</style>\n",
       "<table border=\"1\" class=\"dataframe\">\n",
       "  <thead>\n",
       "    <tr style=\"text-align: right;\">\n",
       "      <th></th>\n",
       "      <th>N</th>\n",
       "      <th>Mean</th>\n",
       "      <th>SD</th>\n",
       "      <th>SE</th>\n",
       "      <th>95% Conf.</th>\n",
       "      <th>Interval</th>\n",
       "    </tr>\n",
       "    <tr>\n",
       "      <th>WhoShoppingFor</th>\n",
       "      <th></th>\n",
       "      <th></th>\n",
       "      <th></th>\n",
       "      <th></th>\n",
       "      <th></th>\n",
       "      <th></th>\n",
       "    </tr>\n",
       "  </thead>\n",
       "  <tbody>\n",
       "    <tr>\n",
       "      <td>Self</td>\n",
       "      <td>608</td>\n",
       "      <td>100.5583</td>\n",
       "      <td>40.9669</td>\n",
       "      <td>1.6614</td>\n",
       "      <td>97.2954</td>\n",
       "      <td>103.8211</td>\n",
       "    </tr>\n",
       "    <tr>\n",
       "      <td>Self and family</td>\n",
       "      <td>348</td>\n",
       "      <td>146.2495</td>\n",
       "      <td>70.7162</td>\n",
       "      <td>3.7908</td>\n",
       "      <td>138.7937</td>\n",
       "      <td>153.7053</td>\n",
       "    </tr>\n",
       "    <tr>\n",
       "      <td>Self and spouse</td>\n",
       "      <td>540</td>\n",
       "      <td>120.8037</td>\n",
       "      <td>49.7551</td>\n",
       "      <td>2.1411</td>\n",
       "      <td>116.5977</td>\n",
       "      <td>125.0096</td>\n",
       "    </tr>\n",
       "  </tbody>\n",
       "</table>\n",
       "</div>"
      ],
      "text/plain": [
       "                   N      Mean       SD      SE  95% Conf.  Interval\n",
       "WhoShoppingFor                                                      \n",
       "Self             608  100.5583  40.9669  1.6614    97.2954  103.8211\n",
       "Self and family  348  146.2495  70.7162  3.7908   138.7937  153.7053\n",
       "Self and spouse  540  120.8037  49.7551  2.1411   116.5977  125.0096"
      ]
     },
     "execution_count": 71,
     "metadata": {},
     "output_type": "execute_result"
    }
   ],
   "source": [
    "rp.summary_cont(df['AmountSpent'].groupby(df['WhoShoppingFor']))"
   ]
  },
  {
   "cell_type": "raw",
   "metadata": {},
   "source": [
    "The three means are numerically different. \n",
    "ANOVA to check whether they are statistically different"
   ]
  },
  {
   "cell_type": "code",
   "execution_count": 73,
   "metadata": {},
   "outputs": [
    {
     "data": {
      "text/html": [
       "<div>\n",
       "<style scoped>\n",
       "    .dataframe tbody tr th:only-of-type {\n",
       "        vertical-align: middle;\n",
       "    }\n",
       "\n",
       "    .dataframe tbody tr th {\n",
       "        vertical-align: top;\n",
       "    }\n",
       "\n",
       "    .dataframe thead th {\n",
       "        text-align: right;\n",
       "    }\n",
       "</style>\n",
       "<table border=\"1\" class=\"dataframe\">\n",
       "  <thead>\n",
       "    <tr style=\"text-align: right;\">\n",
       "      <th></th>\n",
       "      <th>sum_sq</th>\n",
       "      <th>df</th>\n",
       "      <th>F</th>\n",
       "      <th>PR(&gt;F)</th>\n",
       "    </tr>\n",
       "  </thead>\n",
       "  <tbody>\n",
       "    <tr>\n",
       "      <td>C(WhoShoppingFor)</td>\n",
       "      <td>4.665562e+05</td>\n",
       "      <td>2.0</td>\n",
       "      <td>85.190021</td>\n",
       "      <td>9.236387e-36</td>\n",
       "    </tr>\n",
       "    <tr>\n",
       "      <td>Residual</td>\n",
       "      <td>4.088322e+06</td>\n",
       "      <td>1493.0</td>\n",
       "      <td>NaN</td>\n",
       "      <td>NaN</td>\n",
       "    </tr>\n",
       "  </tbody>\n",
       "</table>\n",
       "</div>"
      ],
      "text/plain": [
       "                         sum_sq      df          F        PR(>F)\n",
       "C(WhoShoppingFor)  4.665562e+05     2.0  85.190021  9.236387e-36\n",
       "Residual           4.088322e+06  1493.0        NaN           NaN"
      ]
     },
     "execution_count": 73,
     "metadata": {},
     "output_type": "execute_result"
    }
   ],
   "source": [
    "model = ols('AmountSpent ~ C(WhoShoppingFor)', data=df).fit()\n",
    "aov_table = sm.stats.anova_lm(model, typ=2)\n",
    "aov_table"
   ]
  },
  {
   "cell_type": "raw",
   "metadata": {},
   "source": [
    "p value is very close to 0 so the H0 is rejected. They are statistically different."
   ]
  },
  {
   "cell_type": "markdown",
   "metadata": {},
   "source": [
    "CHI-SQUARE tests:\n",
    "    "
   ]
  },
  {
   "cell_type": "raw",
   "metadata": {},
   "source": [
    "A chi-square test can be used to test if the variance of a population is equal to a specified value."
   ]
  },
  {
   "cell_type": "code",
   "execution_count": 77,
   "metadata": {},
   "outputs": [
    {
     "name": "stdout",
     "output_type": "stream",
     "text": [
      "gender                         Female  Male\n",
      "HealthyStore                               \n",
      "Marketed as health food store      44    44\n",
      "Regular store                     604   804\n"
     ]
    }
   ],
   "source": [
    "ct1 = pd.crosstab(df['HealthyStore'], \n",
    "df['gender'], \n",
    "margins = False) \n",
    "print(ct1) \n"
   ]
  },
  {
   "cell_type": "code",
   "execution_count": 80,
   "metadata": {},
   "outputs": [
    {
     "data": {
      "text/plain": [
       "(1.4245672006027255,\n",
       " 0.23265312464728538,\n",
       " 1,\n",
       " array([[ 38.11764706,  49.88235294],\n",
       "        [609.88235294, 798.11764706]]))"
      ]
     },
     "execution_count": 80,
     "metadata": {},
     "output_type": "execute_result"
    }
   ],
   "source": [
    "chi2_contingency(ct1)"
   ]
  },
  {
   "cell_type": "code",
   "execution_count": 81,
   "metadata": {},
   "outputs": [],
   "source": [
    "## Chi-square statistics = 1.424\n",
    "\n",
    "## P value is 0.23 (the Ho is NOT rejected .... there is no association between gender & type of store)\n",
    "\n",
    "## Degrees of freedom = 1  [ (2-1) * (2-1)]... two categories of stores & two categories of gender"
   ]
  },
  {
   "cell_type": "code",
   "execution_count": 82,
   "metadata": {},
   "outputs": [
    {
     "name": "stdout",
     "output_type": "stream",
     "text": [
      "WhoShoppingFor  Self  Self and family  Self and spouse\n",
      "StoreSize                                             \n",
      "Large            340              168              300\n",
      "Medium           196              108              132\n",
      "Small             72               72              108\n"
     ]
    }
   ],
   "source": [
    "ct2 = pd.crosstab(df['StoreSize'], \n",
    "df['WhoShoppingFor'], \n",
    "margins = False) \n",
    "print(ct2) \n"
   ]
  },
  {
   "cell_type": "code",
   "execution_count": 83,
   "metadata": {},
   "outputs": [
    {
     "data": {
      "text/plain": [
       "(24.561554955794335,\n",
       " 6.162396070691176e-05,\n",
       " 4,\n",
       " array([[328.38502674, 187.95721925, 291.65775401],\n",
       "        [177.19786096, 101.42245989, 157.37967914],\n",
       "        [102.4171123 ,  58.62032086,  90.96256684]]))"
      ]
     },
     "execution_count": 83,
     "metadata": {},
     "output_type": "execute_result"
    }
   ],
   "source": [
    "chi2_contingency(ct2)\n"
   ]
  },
  {
   "cell_type": "code",
   "execution_count": 84,
   "metadata": {},
   "outputs": [],
   "source": [
    "## Chi-square statistics = 24.56\n",
    "\n",
    "## P value is 0.000006 (the Ho is rejected .... there is association between store size & who shoping for)\n",
    "\n",
    "## Degrees of freedom = 4 [ (3-1) * (3-1)]"
   ]
  },
  {
   "cell_type": "code",
   "execution_count": null,
   "metadata": {},
   "outputs": [],
   "source": []
  }
 ],
 "metadata": {
  "kernelspec": {
   "display_name": "Python 3",
   "language": "python",
   "name": "python3"
  },
  "language_info": {
   "codemirror_mode": {
    "name": "ipython",
    "version": 3
   },
   "file_extension": ".py",
   "mimetype": "text/x-python",
   "name": "python",
   "nbconvert_exporter": "python",
   "pygments_lexer": "ipython3",
   "version": "3.8.8"
  }
 },
 "nbformat": 4,
 "nbformat_minor": 2
}
