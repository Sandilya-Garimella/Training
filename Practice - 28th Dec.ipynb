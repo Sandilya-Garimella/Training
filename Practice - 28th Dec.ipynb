{
 "cells": [
  {
   "cell_type": "code",
   "execution_count": 1,
   "metadata": {},
   "outputs": [],
   "source": [
    "import pandas as pd\n",
    "import numpy as np\n",
    "import scipy.stats as stats\n",
    "import matplotlib.pyplot as plt"
   ]
  },
  {
   "cell_type": "code",
   "execution_count": 3,
   "metadata": {},
   "outputs": [],
   "source": [
    "df = pd.read_csv(r\"D:\\Users\\sandilya_garimella\\Documents\\Sandilya\\Iris Dataset.csv\")"
   ]
  },
  {
   "cell_type": "code",
   "execution_count": 4,
   "metadata": {},
   "outputs": [
    {
     "data": {
      "text/html": [
       "<div>\n",
       "<style scoped>\n",
       "    .dataframe tbody tr th:only-of-type {\n",
       "        vertical-align: middle;\n",
       "    }\n",
       "\n",
       "    .dataframe tbody tr th {\n",
       "        vertical-align: top;\n",
       "    }\n",
       "\n",
       "    .dataframe thead th {\n",
       "        text-align: right;\n",
       "    }\n",
       "</style>\n",
       "<table border=\"1\" class=\"dataframe\">\n",
       "  <thead>\n",
       "    <tr style=\"text-align: right;\">\n",
       "      <th></th>\n",
       "      <th>sepal_length</th>\n",
       "      <th>sepal_width</th>\n",
       "      <th>petal_length</th>\n",
       "      <th>petal_width</th>\n",
       "      <th>species</th>\n",
       "    </tr>\n",
       "  </thead>\n",
       "  <tbody>\n",
       "    <tr>\n",
       "      <td>0</td>\n",
       "      <td>5.1</td>\n",
       "      <td>3.5</td>\n",
       "      <td>1.4</td>\n",
       "      <td>0.2</td>\n",
       "      <td>setosa</td>\n",
       "    </tr>\n",
       "    <tr>\n",
       "      <td>1</td>\n",
       "      <td>4.9</td>\n",
       "      <td>3.0</td>\n",
       "      <td>1.4</td>\n",
       "      <td>0.2</td>\n",
       "      <td>setosa</td>\n",
       "    </tr>\n",
       "    <tr>\n",
       "      <td>2</td>\n",
       "      <td>4.7</td>\n",
       "      <td>3.2</td>\n",
       "      <td>1.3</td>\n",
       "      <td>0.2</td>\n",
       "      <td>setosa</td>\n",
       "    </tr>\n",
       "    <tr>\n",
       "      <td>3</td>\n",
       "      <td>4.6</td>\n",
       "      <td>3.1</td>\n",
       "      <td>1.5</td>\n",
       "      <td>0.2</td>\n",
       "      <td>setosa</td>\n",
       "    </tr>\n",
       "    <tr>\n",
       "      <td>4</td>\n",
       "      <td>5.0</td>\n",
       "      <td>3.6</td>\n",
       "      <td>1.4</td>\n",
       "      <td>0.2</td>\n",
       "      <td>setosa</td>\n",
       "    </tr>\n",
       "  </tbody>\n",
       "</table>\n",
       "</div>"
      ],
      "text/plain": [
       "   sepal_length  sepal_width  petal_length  petal_width species\n",
       "0           5.1          3.5           1.4          0.2  setosa\n",
       "1           4.9          3.0           1.4          0.2  setosa\n",
       "2           4.7          3.2           1.3          0.2  setosa\n",
       "3           4.6          3.1           1.5          0.2  setosa\n",
       "4           5.0          3.6           1.4          0.2  setosa"
      ]
     },
     "execution_count": 4,
     "metadata": {},
     "output_type": "execute_result"
    }
   ],
   "source": [
    "df.head()"
   ]
  },
  {
   "cell_type": "markdown",
   "metadata": {},
   "source": [
    "MEAN"
   ]
  },
  {
   "cell_type": "code",
   "execution_count": 5,
   "metadata": {},
   "outputs": [
    {
     "data": {
      "text/plain": [
       "5.843333333333335"
      ]
     },
     "execution_count": 5,
     "metadata": {},
     "output_type": "execute_result"
    }
   ],
   "source": [
    "df[\"sepal_length\"].mean()"
   ]
  },
  {
   "cell_type": "markdown",
   "metadata": {},
   "source": [
    "MEDIAN"
   ]
  },
  {
   "cell_type": "code",
   "execution_count": 6,
   "metadata": {},
   "outputs": [
    {
     "data": {
      "text/plain": [
       "5.8"
      ]
     },
     "execution_count": 6,
     "metadata": {},
     "output_type": "execute_result"
    }
   ],
   "source": [
    "df[\"sepal_length\"].median()"
   ]
  },
  {
   "cell_type": "markdown",
   "metadata": {},
   "source": [
    "MODE"
   ]
  },
  {
   "cell_type": "code",
   "execution_count": 7,
   "metadata": {},
   "outputs": [
    {
     "data": {
      "text/plain": [
       "0    5.0\n",
       "dtype: float64"
      ]
     },
     "execution_count": 7,
     "metadata": {},
     "output_type": "execute_result"
    }
   ],
   "source": [
    "df[\"sepal_length\"].mode()"
   ]
  },
  {
   "cell_type": "markdown",
   "metadata": {},
   "source": [
    "RANGE"
   ]
  },
  {
   "cell_type": "code",
   "execution_count": 8,
   "metadata": {},
   "outputs": [
    {
     "data": {
      "text/plain": [
       "3.6"
      ]
     },
     "execution_count": 8,
     "metadata": {},
     "output_type": "execute_result"
    }
   ],
   "source": [
    "round(max(df[\"sepal_length\"]) - min(df[\"sepal_length\"]),2)"
   ]
  },
  {
   "cell_type": "markdown",
   "metadata": {},
   "source": [
    "VARIANCE"
   ]
  },
  {
   "cell_type": "code",
   "execution_count": 9,
   "metadata": {},
   "outputs": [
    {
     "data": {
      "text/plain": [
       "0.69"
      ]
     },
     "execution_count": 9,
     "metadata": {},
     "output_type": "execute_result"
    }
   ],
   "source": [
    "round(df[\"sepal_length\"].var(),2)"
   ]
  },
  {
   "cell_type": "markdown",
   "metadata": {},
   "source": [
    "STANDARD DEVIATION"
   ]
  },
  {
   "cell_type": "code",
   "execution_count": 10,
   "metadata": {},
   "outputs": [
    {
     "data": {
      "text/plain": [
       "0.8280661279778629"
      ]
     },
     "execution_count": 10,
     "metadata": {},
     "output_type": "execute_result"
    }
   ],
   "source": [
    "df[\"sepal_length\"].std()"
   ]
  },
  {
   "cell_type": "markdown",
   "metadata": {},
   "source": [
    "POPULATION VS SAMPLE"
   ]
  },
  {
   "cell_type": "raw",
   "metadata": {},
   "source": [
    "Population:\n",
    "Population is the entire data from which we would like to draw conclusions."
   ]
  },
  {
   "cell_type": "raw",
   "metadata": {},
   "source": [
    "Sample:\n",
    "Sample is the specific amount of data taken from the entire data and from this specific data, conclusions are drawn.    "
   ]
  },
  {
   "cell_type": "raw",
   "metadata": {},
   "source": [
    "Reasons for Sampling:\n",
    "1) It is impossible to study/draw conclusions from the whole population due to its size.\n",
    "2) It is much easier and more efficient to collect data from samples rather than the whole population.\n",
    "3) It is cost efficient. Since storing and running analysis on smaller amount of data is much easier.\n"
   ]
  },
  {
   "cell_type": "raw",
   "metadata": {},
   "source": [
    "When the population size is relatively small, we can study and draw analyses from the population itself."
   ]
  },
  {
   "cell_type": "code",
   "execution_count": 11,
   "metadata": {},
   "outputs": [],
   "source": [
    "# Random Sample"
   ]
  },
  {
   "cell_type": "code",
   "execution_count": 12,
   "metadata": {},
   "outputs": [],
   "source": [
    "smpl = df.sample(frac = 0.25)"
   ]
  },
  {
   "cell_type": "code",
   "execution_count": 13,
   "metadata": {},
   "outputs": [],
   "source": [
    "# Sample of one species"
   ]
  },
  {
   "cell_type": "code",
   "execution_count": 14,
   "metadata": {},
   "outputs": [
    {
     "data": {
      "text/plain": [
       "Index(['sepal_length', 'sepal_width', 'petal_length', 'petal_width',\n",
       "       'species'],\n",
       "      dtype='object')"
      ]
     },
     "execution_count": 14,
     "metadata": {},
     "output_type": "execute_result"
    }
   ],
   "source": [
    "df.columns"
   ]
  },
  {
   "cell_type": "code",
   "execution_count": 15,
   "metadata": {},
   "outputs": [
    {
     "data": {
      "text/plain": [
       "array(['setosa', 'versicolor', 'virginica'], dtype=object)"
      ]
     },
     "execution_count": 15,
     "metadata": {},
     "output_type": "execute_result"
    }
   ],
   "source": [
    "df['species'].unique()"
   ]
  },
  {
   "cell_type": "code",
   "execution_count": 16,
   "metadata": {},
   "outputs": [],
   "source": [
    "setosa_smpl = df[df['species'] == 'setosa']"
   ]
  },
  {
   "cell_type": "code",
   "execution_count": 17,
   "metadata": {},
   "outputs": [
    {
     "data": {
      "text/plain": [
       "(50, 5)"
      ]
     },
     "execution_count": 17,
     "metadata": {},
     "output_type": "execute_result"
    }
   ],
   "source": [
    "setosa_smpl.shape"
   ]
  },
  {
   "cell_type": "markdown",
   "metadata": {},
   "source": [
    "Measures of Central Tendency and Dispersion for Sample"
   ]
  },
  {
   "cell_type": "code",
   "execution_count": 18,
   "metadata": {},
   "outputs": [
    {
     "name": "stdout",
     "output_type": "stream",
     "text": [
      "Mean of the sample: 5.91\n",
      "Variance of the sample: 0.73\n",
      "St. Dev of the sample: 0.85\n"
     ]
    }
   ],
   "source": [
    "print(\"Mean of the sample:\", round(smpl[\"sepal_length\"].mean(),2))\n",
    "print(\"Variance of the sample:\", round(smpl[\"sepal_length\"].var(),2))\n",
    "print(\"St. Dev of the sample:\", round(smpl[\"sepal_length\"].std(),2))"
   ]
  },
  {
   "cell_type": "code",
   "execution_count": null,
   "metadata": {},
   "outputs": [],
   "source": []
  },
  {
   "cell_type": "markdown",
   "metadata": {},
   "source": [
    "CHEBYSHEV'S THEOREM"
   ]
  },
  {
   "cell_type": "markdown",
   "metadata": {},
   "source": [
    "This theorem characterizes the dispersion of data away from its mean.\n",
    "It states that the probability that an observation will be more than k standard deviations from the mean is at most 1/k^2."
   ]
  },
  {
   "cell_type": "markdown",
   "metadata": {},
   "source": [
    "CENTRAL LIMIT THEOREM"
   ]
  },
  {
   "cell_type": "markdown",
   "metadata": {},
   "source": [
    "It states that when various samples are considered from a population which does not follow a normal distribution, the averages of these samples when plotted will always follow a normal distribution irrespective of the distribution of the population. \n",
    "Also the sample size has to be large, i.e n>30"
   ]
  },
  {
   "cell_type": "markdown",
   "metadata": {},
   "source": [
    "# PROBABILITY DISTRIBUTIONS"
   ]
  },
  {
   "cell_type": "markdown",
   "metadata": {},
   "source": [
    "Probability distributions are of two types:\n",
    "1)Discrete Distributions.\n",
    "2)Continuous Distributions."
   ]
  },
  {
   "cell_type": "markdown",
   "metadata": {},
   "source": [
    "Discrete Distributions are again classifed into 3 types:\n",
    "1) Uniform Distribution\n",
    "2) Bernoulli Distribution\n",
    "3) Binomial Distribution\n",
    "4) Poisson Distribution"
   ]
  },
  {
   "cell_type": "raw",
   "metadata": {},
   "source": [
    "Uniform Distribution: Models multiple events with the same probablity.\n",
    "Example: Rolling a dice."
   ]
  },
  {
   "cell_type": "raw",
   "metadata": {},
   "source": [
    "Bernoulli Distribution: A random experiment that has only two outcomes (0/1 or Success/Failures).\n",
    "Example: Single Toss of a coin."
   ]
  },
  {
   "cell_type": "raw",
   "metadata": {},
   "source": [
    "Binomial Distribution: Models binary data.\n",
    "Example: Tossing of coins."
   ]
  },
  {
   "cell_type": "raw",
   "metadata": {},
   "source": [
    "Poisson Distribution: Models count data.\n",
    "Example: Count of number of vehicles passing through a traffic signal per hour."
   ]
  },
  {
   "cell_type": "markdown",
   "metadata": {},
   "source": [
    "Continous Distributions are:\n",
    "1) Normal distribution.\n",
    "2) Exponential Distribution\n",
    "3) Log-normal Distribution\n",
    "4) Gamma Distribution"
   ]
  },
  {
   "cell_type": "markdown",
   "metadata": {},
   "source": [
    "# UNDERSTANDING VARIABLES"
   ]
  },
  {
   "cell_type": "markdown",
   "metadata": {},
   "source": [
    "Types:\n",
    "    1) Qualitative \n",
    "    2) Quantitative"
   ]
  },
  {
   "cell_type": "raw",
   "metadata": {},
   "source": [
    "Qualitative variables are further classified into 2 types. \n",
    "1) Nominal\n",
    "2) Ordinal"
   ]
  },
  {
   "cell_type": "raw",
   "metadata": {},
   "source": [
    "Quantitative variables are further classified into 2 types. \n",
    "1) Interval\n",
    "2) Ratio"
   ]
  },
  {
   "cell_type": "markdown",
   "metadata": {},
   "source": [
    "#### CONFIDENCE INTERVAL:"
   ]
  },
  {
   "cell_type": "raw",
   "metadata": {},
   "source": [
    "Confidence Interval is the range of value in which our true value will be present.\n",
    "Formula : X  ±  Z *(s/√n)\n",
    "            "
   ]
  },
  {
   "cell_type": "code",
   "execution_count": null,
   "metadata": {},
   "outputs": [],
   "source": []
  },
  {
   "cell_type": "markdown",
   "metadata": {},
   "source": [
    "Comparing Distributions:"
   ]
  },
  {
   "cell_type": "raw",
   "metadata": {},
   "source": [
    "1) 1-sample Z test : \n",
    "We perform a 1-sample Z test when the population Standard Deviation is known to us.\n",
    "1-sample Z test is used to compare sample mean vs population mean."
   ]
  },
  {
   "cell_type": "code",
   "execution_count": 19,
   "metadata": {
    "scrolled": true
   },
   "outputs": [
    {
     "data": {
      "text/plain": [
       "5.843333333333335"
      ]
     },
     "execution_count": 19,
     "metadata": {},
     "output_type": "execute_result"
    }
   ],
   "source": [
    "df['sepal_length'].mean()"
   ]
  },
  {
   "cell_type": "code",
   "execution_count": 21,
   "metadata": {},
   "outputs": [
    {
     "name": "stdout",
     "output_type": "stream",
     "text": [
      "Z value:  -16.73\n",
      "P value:  0.0\n",
      "Reject null hypothesis\n"
     ]
    }
   ],
   "source": [
    "from statsmodels.stats import weightstats as stests\n",
    "ztest,pval= stests.ztest(df['sepal_length'][df['species'] == 'setosa'], x2=None, value=5.84)\n",
    "print(\"Z value: \",round(float(ztest),2))\n",
    "print(\"P value: \",round(float(pval),4))\n",
    "if pval<0.05:\n",
    "    print(\"Reject null hypothesis\")\n",
    "else:\n",
    "    print(\"Accept null hypothesis\")"
   ]
  },
  {
   "cell_type": "raw",
   "metadata": {},
   "source": [
    "2) 1-sample t test : \n",
    "We perform a 1-sample t test when the population Standard Deviation is not known to us or if the sample size is less.\n",
    "1-sample t test is used to compare sample mean vs population mean."
   ]
  },
  {
   "cell_type": "code",
   "execution_count": 83,
   "metadata": {},
   "outputs": [
    {
     "name": "stdout",
     "output_type": "stream",
     "text": [
      "t value:  86.43\n",
      "P value:  0.0\n",
      "Reject null hypothesis\n"
     ]
    }
   ],
   "source": [
    "from scipy.stats import ttest_1samp\n",
    "ttest_1samp(df['sepal_length'][df['species'] == 'setosa'], popmean=5.84)\n",
    "print(\"t value: \",round(float(tscore),2))\n",
    "print(\"P value: \",round(float(pval),4))\n",
    "if pval<0.05:\n",
    "    print(\"Reject null hypothesis\")\n",
    "else:\n",
    "    print(\"Accept null hypothesis\")"
   ]
  },
  {
   "cell_type": "raw",
   "metadata": {},
   "source": [
    "3) 2-sample Z test : \n",
    "We perform a 2-sample Z test when the Standard Deviation of the population is known to us.\n",
    "2-sample Z test is used to compare whether means of two unknown populations are statistically different."
   ]
  },
  {
   "cell_type": "code",
   "execution_count": 88,
   "metadata": {},
   "outputs": [
    {
     "name": "stdout",
     "output_type": "stream",
     "text": [
      "Z value:  -10.52\n",
      "P value:  0.0\n",
      "Reject null hypothesis\n"
     ]
    }
   ],
   "source": [
    "ztest ,pval1 = stests.ztest(df['sepal_length'][df['species'] == 'setosa'], x2=df['sepal_length'][df['species'] == 'versicolor'], value=0,alternative='two-sided')\n",
    "print(\"Z value: \",round(float(ztest),2))\n",
    "print(\"P value: \",round(float(pval),4))\n",
    "if pval<0.05:\n",
    "    print(\"Reject null hypothesis\")\n",
    "else:\n",
    "    print(\"Accept null hypothesis\")"
   ]
  },
  {
   "cell_type": "code",
   "execution_count": 170,
   "metadata": {},
   "outputs": [
    {
     "name": "stdout",
     "output_type": "stream",
     "text": [
      "Z value:  0.0\n",
      "P value:  0.0\n",
      "Reject null hypothesis\n"
     ]
    }
   ],
   "source": [
    "ar1 = [2,3,4,5,6]\n",
    "ar2 = [0,2,4,6,8]\n",
    "ztest ,pval1 = stests.ztest(ar1, ar2, value=0,alternative='two-sided')\n",
    "print(\"Z value: \",round(float(ztest),2))\n",
    "print(\"P value: \",round(float(pval),4))\n",
    "if pval<0.05:\n",
    "    print(\"Reject null hypothesis\")\n",
    "else:\n",
    "    print(\"Accept null hypothesis\")"
   ]
  },
  {
   "cell_type": "code",
   "execution_count": null,
   "metadata": {},
   "outputs": [],
   "source": []
  },
  {
   "cell_type": "raw",
   "metadata": {},
   "source": [
    "4) 2-sample t test : \n",
    "We perform a 2-sample t test when the Standard Deviation of the population is not known to us or if the sample size is less.\n",
    "2-sample t test is used to compare whether means of two unknown populations are statistically different."
   ]
  },
  {
   "cell_type": "code",
   "execution_count": 93,
   "metadata": {},
   "outputs": [
    {
     "name": "stdout",
     "output_type": "stream",
     "text": [
      "t value:  -10.52\n",
      "P value:  0.0\n",
      "Reject null hypothesis\n"
     ]
    }
   ],
   "source": [
    "from scipy.stats import ttest_ind\n",
    "ttest_ind(df['sepal_length'][df['species'] == 'setosa'], df['sepal_length'][df['species'] == 'versicolor'], equal_var=False)\n",
    "print(\"t value: \",round(float(t),2))\n",
    "print(\"P value: \",round(float(p),4))\n",
    "if pval<0.05:\n",
    "    print(\"Reject null hypothesis\")\n",
    "else:\n",
    "    print(\"Accept null hypothesis\")"
   ]
  },
  {
   "cell_type": "raw",
   "metadata": {},
   "source": [
    "5) Paired t test:\n",
    "Paired t-test is used when we are interested in the difference between two variables for the same subject."
   ]
  },
  {
   "cell_type": "code",
   "execution_count": 95,
   "metadata": {},
   "outputs": [],
   "source": [
    "# stats.ttest_rel(df['sepal_length'][df['species'] == 'setosa'], df['sepal_length'][df['species'] == 'versicolor'])"
   ]
  },
  {
   "cell_type": "raw",
   "metadata": {},
   "source": [
    "5)ANOVA: Analysis of Variance.\n",
    " We perform ANOVA when we have to compare whether the means of three or more populations are statistically different.   "
   ]
  },
  {
   "cell_type": "code",
   "execution_count": 99,
   "metadata": {
    "scrolled": true
   },
   "outputs": [
    {
     "name": "stdout",
     "output_type": "stream",
     "text": [
      "F value:  119.26\n",
      "P value:  0.0\n",
      "Reject null hypothesis\n"
     ]
    }
   ],
   "source": [
    "from scipy.stats import f_oneway\n",
    "setosa = df[df['species'] == 'setosa']\n",
    "versicolor = df[df['species'] == 'versicolor']\n",
    "virginica = df[df['species'] == 'virginica']\n",
    "statistic, P_val = f_oneway(setosa['sepal_length'], versicolor['sepal_length'], virginica['sepal_length'])\n",
    "print(\"F value: \",round(float(statistic),2))\n",
    "print(\"P value: \",round(float(P_val),4))\n",
    "if pval<0.05:\n",
    "    print(\"Reject null hypothesis\")\n",
    "else:\n",
    "    print(\"Accept null hypothesis\")"
   ]
  },
  {
   "cell_type": "code",
   "execution_count": 100,
   "metadata": {
    "scrolled": true
   },
   "outputs": [
    {
     "name": "stderr",
     "output_type": "stream",
     "text": [
      "C:\\ProgramData\\Anaconda3\\lib\\site-packages\\statsmodels\\base\\model.py:1752: ValueWarning: covariance of constraints does not have full rank. The number of constraints is 2, but rank is 1\n",
      "  'rank is %d' % (J, J_), ValueWarning)\n",
      "C:\\ProgramData\\Anaconda3\\lib\\site-packages\\statsmodels\\base\\model.py:1752: ValueWarning: covariance of constraints does not have full rank. The number of constraints is 21, but rank is 3\n",
      "  'rank is %d' % (J, J_), ValueWarning)\n",
      "C:\\ProgramData\\Anaconda3\\lib\\site-packages\\statsmodels\\base\\model.py:1752: ValueWarning: covariance of constraints does not have full rank. The number of constraints is 42, but rank is 21\n",
      "  'rank is %d' % (J, J_), ValueWarning)\n"
     ]
    },
    {
     "data": {
      "text/html": [
       "<div>\n",
       "<style scoped>\n",
       "    .dataframe tbody tr th:only-of-type {\n",
       "        vertical-align: middle;\n",
       "    }\n",
       "\n",
       "    .dataframe tbody tr th {\n",
       "        vertical-align: top;\n",
       "    }\n",
       "\n",
       "    .dataframe thead th {\n",
       "        text-align: right;\n",
       "    }\n",
       "</style>\n",
       "<table border=\"1\" class=\"dataframe\">\n",
       "  <thead>\n",
       "    <tr style=\"text-align: right;\">\n",
       "      <th></th>\n",
       "      <th>sum_sq</th>\n",
       "      <th>df</th>\n",
       "      <th>F</th>\n",
       "      <th>PR(&gt;F)</th>\n",
       "    </tr>\n",
       "  </thead>\n",
       "  <tbody>\n",
       "    <tr>\n",
       "      <td>C(species)</td>\n",
       "      <td>1.707640</td>\n",
       "      <td>2.0</td>\n",
       "      <td>9.357703</td>\n",
       "      <td>2.725832e-03</td>\n",
       "    </tr>\n",
       "    <tr>\n",
       "      <td>C(petal_width)</td>\n",
       "      <td>55.074068</td>\n",
       "      <td>21.0</td>\n",
       "      <td>28.742910</td>\n",
       "      <td>3.739982e-14</td>\n",
       "    </tr>\n",
       "    <tr>\n",
       "      <td>C(species):C(petal_width)</td>\n",
       "      <td>12.681558</td>\n",
       "      <td>42.0</td>\n",
       "      <td>3.309224</td>\n",
       "      <td>1.731604e-05</td>\n",
       "    </tr>\n",
       "    <tr>\n",
       "      <td>Residual</td>\n",
       "      <td>11.222826</td>\n",
       "      <td>123.0</td>\n",
       "      <td>NaN</td>\n",
       "      <td>NaN</td>\n",
       "    </tr>\n",
       "  </tbody>\n",
       "</table>\n",
       "</div>"
      ],
      "text/plain": [
       "                              sum_sq     df          F        PR(>F)\n",
       "C(species)                  1.707640    2.0   9.357703  2.725832e-03\n",
       "C(petal_width)             55.074068   21.0  28.742910  3.739982e-14\n",
       "C(species):C(petal_width)  12.681558   42.0   3.309224  1.731604e-05\n",
       "Residual                   11.222826  123.0        NaN           NaN"
      ]
     },
     "execution_count": 100,
     "metadata": {},
     "output_type": "execute_result"
    }
   ],
   "source": [
    "import statsmodels.api as sm\n",
    "from statsmodels.formula.api import ols\n",
    "\n",
    "#perform two-way ANOVA\n",
    "model = ols('sepal_width ~ C(species) + C(petal_width) + C(species):C(petal_width)', data=df).fit()\n",
    "sm.stats.anova_lm(model, typ=2)"
   ]
  },
  {
   "cell_type": "raw",
   "metadata": {},
   "source": [
    "6)Chi-Square:\n",
    "A chi-square test can be used to test if the variance of a population is equal to a specified value."
   ]
  },
  {
   "cell_type": "code",
   "execution_count": 117,
   "metadata": {},
   "outputs": [
    {
     "data": {
      "text/plain": [
       "0.69"
      ]
     },
     "execution_count": 117,
     "metadata": {},
     "output_type": "execute_result"
    }
   ],
   "source": [
    "round(df[\"sepal_length\"].var(),2)"
   ]
  },
  {
   "cell_type": "code",
   "execution_count": 121,
   "metadata": {},
   "outputs": [],
   "source": [
    "import numpy as np\n",
    "from scipy.stats import chi2\n",
    "\n",
    "def Chi_test(x, V_p, direction = \"two-tailed\", alpha = 0.05):\n",
    "    n = len(x)\n",
    "    Chi_Calc = (n - 1) * np.var(x) / V_p \n",
    "    if direction == \"lower\":\n",
    "        Chi_Tab = chi2.ppf(alpha, n - 1)\n",
    "        if Chi_Calc <= Chi_Tab:\n",
    "            return \"H_0 rejected\"\n",
    "        else:\n",
    "            return \"H_0 not rejected\"\n",
    "    elif direction == \"upper\":\n",
    "        Chi_Tab = chi2.ppf(1 - alpha, n - 1)\n",
    "        if Chi_Calc >= Chi_Tab:\n",
    "            return \"H_0 rejected\"\n",
    "        else:\n",
    "            return \"H_0 not rejected\"\n",
    "    else:\n",
    "        Chi_Tab1 = chi2.ppf(alpha / 2, n - 1)\n",
    "        Chi_Tab2 = chi2.ppf(1 - (alpha / 2), n - 1)\n",
    "        if Chi_Calc <= Chi_Tab1 or Chi_Calc >= Chi_Tab2:\n",
    "            return \"H_0 rejected\"\n",
    "        else:\n",
    "            return \"H_0 not rejected\""
   ]
  },
  {
   "cell_type": "code",
   "execution_count": 116,
   "metadata": {},
   "outputs": [
    {
     "data": {
      "text/plain": [
       "'H_0 rejected'"
      ]
     },
     "execution_count": 116,
     "metadata": {},
     "output_type": "execute_result"
    }
   ],
   "source": [
    "n = len(setosa)    \n",
    "V_p = df[\"sepal_length\"].var()\n",
    "x = setosa['sepal_length']\n",
    "\n",
    "Chi_test(x, V_p)"
   ]
  },
  {
   "cell_type": "code",
   "execution_count": 128,
   "metadata": {},
   "outputs": [
    {
     "data": {
      "text/plain": [
       "71.42019518750642"
      ]
     },
     "execution_count": 128,
     "metadata": {},
     "output_type": "execute_result"
    }
   ],
   "source": [
    "chi2.ppf(1 - (0.05 / 2), len(setosa))"
   ]
  },
  {
   "cell_type": "code",
   "execution_count": 126,
   "metadata": {},
   "outputs": [
    {
     "data": {
      "text/plain": [
       "33.93030561852784"
      ]
     },
     "execution_count": 126,
     "metadata": {},
     "output_type": "execute_result"
    }
   ],
   "source": [
    "chi2.ppf(0.05, n - 1)"
   ]
  },
  {
   "cell_type": "code",
   "execution_count": 124,
   "metadata": {},
   "outputs": [
    {
     "data": {
      "text/plain": [
       "8.701316102510559"
      ]
     },
     "execution_count": 124,
     "metadata": {},
     "output_type": "execute_result"
    }
   ],
   "source": [
    "Chi_Calc = (len(setosa) - 1) * np.var(setosa['sepal_length']) / V_p\n",
    "Chi_Calc"
   ]
  },
  {
   "cell_type": "raw",
   "metadata": {},
   "source": [
    "7) F test:\n",
    "F test is used to test if the variances of two populations are equal."
   ]
  },
  {
   "cell_type": "code",
   "execution_count": 160,
   "metadata": {},
   "outputs": [
    {
     "name": "stdout",
     "output_type": "stream",
     "text": [
      "F value:  0.47\n",
      "p value:  0.0\n",
      "Reject null hypothesis\n"
     ]
    }
   ],
   "source": [
    "#define F-test function\n",
    "import scipy\n",
    "def f_test(x, y):\n",
    "    x = setosa['sepal_length']\n",
    "    y = versicolor['sepal_length']\n",
    "    f = np.var(x)/np.var(y) #calculate F test statistic \n",
    "    dfn = x.size-1 #define degrees of freedom numerator \n",
    "    dfd = y.size-1 #define degrees of freedom denominator \n",
    "    p = scipy.stats.f.cdf(f, dfn, dfd) #find p-value of F test statistic \n",
    "    print(\"F value: \", round(f,2))\n",
    "    print(\"p value: \", round(p,2))\n",
    "    if p<0.05:\n",
    "        print(\"Reject null hypothesis\")\n",
    "    else:\n",
    "        print(\"Accept null hypothesis\")\n",
    "\n",
    "#perform F-test\n",
    "f_test(x, y)"
   ]
  },
  {
   "cell_type": "raw",
   "metadata": {},
   "source": [
    "8) 1 sample Kolmogorov–Smirnov(KS)test:\n",
    "It compares the cumulative distribution function for a variable with a specified distribution."
   ]
  },
  {
   "cell_type": "raw",
   "metadata": {},
   "source": [
    "9) 2 sample Kolmogorov–Smirnov(KS)test:\n",
    "It is used to compare two cumulative distributions. "
   ]
  },
  {
   "cell_type": "markdown",
   "metadata": {},
   "source": [
    "CORRELATION"
   ]
  },
  {
   "cell_type": "raw",
   "metadata": {},
   "source": [
    "It is used to measure the linear relationship between two quantitaive variables.\n",
    "Types of Correlation:\n",
    "1) Pearson correlation\n",
    "2) Kendall rank correlation\n",
    "3) Spearman correlation\n",
    "4) Point-Biserial correlation."
   ]
  },
  {
   "cell_type": "code",
   "execution_count": 152,
   "metadata": {
    "scrolled": true
   },
   "outputs": [
    {
     "name": "stdout",
     "output_type": "stream",
     "text": [
      "Correlation Coefficient:  -0.11\n",
      "p value:  0.18\n"
     ]
    }
   ],
   "source": [
    "R, p = scipy.stats.pearsonr(df['sepal_length'], df['sepal_width'])\n",
    "print(\"Correlation Coefficient: \", round(R,2))\n",
    "print(\"p value: \", round(p,2))"
   ]
  },
  {
   "cell_type": "code",
   "execution_count": 155,
   "metadata": {
    "scrolled": true
   },
   "outputs": [
    {
     "data": {
      "image/png": "[encoded data removed]",
      "text/plain": [
       "<Figure size 432x288 with 1 Axes>"
      ]
     },
     "metadata": {
      "needs_background": "light"
     },
     "output_type": "display_data"
    }
   ],
   "source": [
    "plt.scatter(df['sepal_length'], df['sepal_width']) \n",
    "plt.show()"
   ]
  },
  {
   "cell_type": "markdown",
   "metadata": {},
   "source": [
    "COVARIANCE"
   ]
  },
  {
   "cell_type": "raw",
   "metadata": {},
   "source": [
    "Covariance is a measure of the joint variability of two random variables. "
   ]
  },
  {
   "cell_type": "code",
   "execution_count": 165,
   "metadata": {},
   "outputs": [
    {
     "name": "stdout",
     "output_type": "stream",
     "text": [
      "-0.03926845637583893\n"
     ]
    }
   ],
   "source": [
    "Covariance = np.cov(df['sepal_length'], df['sepal_width'])[0][1]\n",
    "print(Covariance)"
   ]
  }
 ],
 "metadata": {
  "kernelspec": {
   "display_name": "Python 3 (ipykernel)",
   "language": "python",
   "name": "python3"
  },
  "language_info": {
   "codemirror_mode": {
    "name": "ipython",
    "version": 3
   },
   "file_extension": ".py",
   "mimetype": "text/x-python",
   "name": "python",
   "nbconvert_exporter": "python",
   "pygments_lexer": "ipython3",
   "version": "3.8.8"
  }
 },
 "nbformat": 4,
 "nbformat_minor": 2
}
